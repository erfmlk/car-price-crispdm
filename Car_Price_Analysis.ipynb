{
 "cells": [
  {
   "cell_type": "markdown",
   "id": "7c12fef8",
   "metadata": {},
   "source": [
    "\n",
    "# Practical Application: What Drives the Price of a Car?\n",
    "\n",
    "## Overview\n",
    "This project investigates used vehicle listings to explore the factors that influence car prices. We use a dataset with over 426,000 entries and perform data cleaning, exploratory data analysis (EDA), visualizations, and correlation analysis. Libraries include Pandas, Matplotlib, Seaborn, and Scikit-learn.\n"
   ]
  },
  {
   "cell_type": "code",
   "execution_count": null,
   "id": "3715c1b3",
   "metadata": {},
   "outputs": [],
   "source": [
    "\n",
    "import pandas as pd\n",
    "import numpy as np\n",
    "import seaborn as sns\n",
    "import matplotlib.pyplot as plt\n",
    "\n",
    "# Set plot styles\n",
    "sns.set(style='whitegrid')\n",
    "plt.rcParams['figure.figsize'] = (10, 6)\n"
   ]
  },
  {
   "cell_type": "markdown",
   "id": "e336be95",
   "metadata": {},
   "source": [
    "## 1. Load the Dataset"
   ]
  },
  {
   "cell_type": "code",
   "execution_count": null,
   "id": "adba0d69",
   "metadata": {},
   "outputs": [],
   "source": [
    "\n",
    "df = pd.read_csv(\"vehicles.csv\")\n",
    "df.head()\n"
   ]
  },
  {
   "cell_type": "markdown",
   "id": "60596939",
   "metadata": {},
   "source": [
    "## 2. Data Summary and Cleaning"
   ]
  },
  {
   "cell_type": "code",
   "execution_count": null,
   "id": "15721314",
   "metadata": {},
   "outputs": [],
   "source": [
    "\n",
    "df.info()\n",
    "df.isnull().sum()\n"
   ]
  },
  {
   "cell_type": "code",
   "execution_count": null,
   "id": "6d185fe4",
   "metadata": {},
   "outputs": [],
   "source": [
    "\n",
    "# Drop rows with missing values and filter invalid prices/year\n",
    "df = df.dropna()\n",
    "df = df[df['price'] > 100]\n",
    "df = df[df['year'] >= 1900]\n",
    "df.shape\n"
   ]
  },
  {
   "cell_type": "markdown",
   "id": "f5bce057",
   "metadata": {},
   "source": [
    "## 3. Descriptive Statistics"
   ]
  },
  {
   "cell_type": "code",
   "execution_count": null,
   "id": "c966121b",
   "metadata": {},
   "outputs": [],
   "source": [
    "\n",
    "df.describe(include='all')\n"
   ]
  },
  {
   "cell_type": "markdown",
   "id": "7aea013c",
   "metadata": {},
   "source": [
    "## 4. Visualizations"
   ]
  },
  {
   "cell_type": "markdown",
   "id": "54284a1d",
   "metadata": {},
   "source": [
    "### 4.1 Price Distribution"
   ]
  },
  {
   "cell_type": "code",
   "execution_count": null,
   "id": "93c02904",
   "metadata": {},
   "outputs": [],
   "source": [
    "\n",
    "sns.histplot(df['price'], bins=100, kde=True)\n",
    "plt.title(\"Distribution of Car Prices\")\n",
    "plt.xlabel(\"Price ($)\")\n",
    "plt.ylabel(\"Count\")\n",
    "plt.xlim(0, 60000)\n",
    "plt.show()\n"
   ]
  },
  {
   "cell_type": "markdown",
   "id": "99f1601d",
   "metadata": {},
   "source": [
    "### 4.2 Price by Fuel Type"
   ]
  },
  {
   "cell_type": "code",
   "execution_count": null,
   "id": "b03be35e",
   "metadata": {},
   "outputs": [],
   "source": [
    "\n",
    "sns.boxplot(x=\"fuel\", y=\"price\", data=df)\n",
    "plt.title(\"Price by Fuel Type\")\n",
    "plt.ylim(0, 60000)\n",
    "plt.show()\n"
   ]
  },
  {
   "cell_type": "markdown",
   "id": "911e422f",
   "metadata": {},
   "source": [
    "### 4.3 Price by Transmission"
   ]
  },
  {
   "cell_type": "code",
   "execution_count": null,
   "id": "7ed9233b",
   "metadata": {},
   "outputs": [],
   "source": [
    "\n",
    "sns.boxplot(x=\"transmission\", y=\"price\", data=df)\n",
    "plt.title(\"Price by Transmission Type\")\n",
    "plt.ylim(0, 60000)\n",
    "plt.show()\n"
   ]
  },
  {
   "cell_type": "markdown",
   "id": "6e597329",
   "metadata": {},
   "source": [
    "### 4.4 Vehicle Type Distribution"
   ]
  },
  {
   "cell_type": "code",
   "execution_count": null,
   "id": "6dcadcd2",
   "metadata": {},
   "outputs": [],
   "source": [
    "\n",
    "sns.countplot(data=df, x=\"type\", order=df['type'].value_counts().index)\n",
    "plt.title(\"Vehicle Type Distribution\")\n",
    "plt.xticks(rotation=45)\n",
    "plt.show()\n"
   ]
  },
  {
   "cell_type": "markdown",
   "id": "34cc8b27",
   "metadata": {},
   "source": [
    "## 5. Feature Correlation"
   ]
  },
  {
   "cell_type": "code",
   "execution_count": null,
   "id": "bb5fbc86",
   "metadata": {},
   "outputs": [],
   "source": [
    "\n",
    "numeric_cols = df.select_dtypes(include=np.number)\n",
    "corr = numeric_cols.corr()\n",
    "\n",
    "sns.heatmap(corr, annot=True, cmap=\"coolwarm\")\n",
    "plt.title(\"Correlation Heatmap\")\n",
    "plt.show()\n"
   ]
  },
  {
   "cell_type": "markdown",
   "id": "80685536",
   "metadata": {},
   "source": [
    "\n",
    "## 6. Key Findings & Recommendations\n",
    "\n",
    "- **Newer vehicles** and those in **better condition** command higher prices.\n",
    "- **Electric and diesel** vehicles tend to be more expensive.\n",
    "- **Lower mileage** (odometer) is strongly correlated with higher price.\n",
    "- Focus on clean, low-mileage SUVs or sedans for better resale.\n",
    "\n",
    "---\n",
    "Prepared by Erfan Maleki\n"
   ]
  }
 ],
 "metadata": {},
 "nbformat": 4,
 "nbformat_minor": 5
}